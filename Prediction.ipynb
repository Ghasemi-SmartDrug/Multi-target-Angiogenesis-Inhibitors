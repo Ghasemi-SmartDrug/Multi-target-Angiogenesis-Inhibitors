{
 "cells": [
  {
   "cell_type": "code",
   "execution_count": 1,
   "id": "360e5581-096c-4a6b-a11c-597e5361c62e",
   "metadata": {},
   "outputs": [],
   "source": [
    "import os\n",
    "import pandas as pd\n",
    "import numpy as np\n",
    "from sklearn.preprocessing import MinMaxScaler,OneHotEncoder,LabelEncoder\n",
    "import keras\n",
    "import tensorflow as tf\n",
    "from keras import layers\n",
    "from keras.models import load_model\n",
    "from keras import activations,Model\n",
    "from keras.utils import plot_model\n",
    "from keras.models import load_model"
   ]
  },
  {
   "cell_type": "code",
   "execution_count": 2,
   "id": "6f2b8165-9f8b-4758-b628-8a0f6488c978",
   "metadata": {},
   "outputs": [
    {
     "name": "stderr",
     "output_type": "stream",
     "text": [
      "C:\\Users\\Mohammadreza\\AppData\\Local\\Temp\\ipykernel_12532\\4138599882.py:4: DtypeWarning: Columns (286,287,288,289,290,291,292,293,294,295,1618,1619,1620,1621,1622,1623,1624,1625,1626,1627,1628,1629,1630,1631) have mixed types. Specify dtype option on import or set low_memory=False.\n",
      "  df_drugs = pd.read_csv(r'C:\\Users\\Mohammadreza\\Multi-target-Angiogenesis-Inhibitors\\Database\\Drugbank.csv')\n"
     ]
    }
   ],
   "source": [
    "df_egf = pd.read_csv(r'Database\\Classification\\EGFR.csv')\n",
    "df_vegfr = pd.read_csv(r'Database\\Classification\\VEGFR2.csv')\n",
    "df_fgfr = pd.read_csv(r'Database\\Classification\\FGFR2.csv')\n",
    "df_drugs = pd.read_csv(r'Database\\Drugbank.csv')"
   ]
  },
  {
   "cell_type": "code",
   "execution_count": 3,
   "id": "96aad640-24bb-4869-bcc3-1371d98d3220",
   "metadata": {},
   "outputs": [],
   "source": [
    "minmax_scaler_egf=MinMaxScaler()\n",
    "minmax_scaler_fgf=MinMaxScaler()\n",
    "minmax_scaler_vegf=MinMaxScaler()\n",
    "oneHot_encoder = OneHotEncoder()"
   ]
  },
  {
   "cell_type": "code",
   "execution_count": 4,
   "id": "e8d74f1c-1fe8-45ec-8a6e-317bba693692",
   "metadata": {},
   "outputs": [],
   "source": [
    "def Standardization_egf(df):\n",
    "    x_Data=df.iloc[:,1:].to_numpy()\n",
    "    y_Data=df.iloc[:,0].to_numpy()\n",
    "    minmax_scaler_egf.fit(x_Data)\n",
    "    x_scale=minmax_scaler_egf.transform(x_Data)\n",
    "    target = oneHot_encoder.fit_transform(y_Data.reshape(-1,1))\n",
    "    return x_scale,y_Data"
   ]
  },
  {
   "cell_type": "code",
   "execution_count": 5,
   "id": "7e76ac9d-671b-468a-9a8e-e05ebf15fcd6",
   "metadata": {},
   "outputs": [],
   "source": [
    "def Standardization_fgf(df):\n",
    "    x_Data=df.iloc[:,1:].to_numpy()\n",
    "    y_Data=df.iloc[:,0].to_numpy()\n",
    "    minmax_scaler_fgf.fit(x_Data)\n",
    "    x_scale=minmax_scaler_fgf.transform(x_Data)\n",
    "    target = oneHot_encoder.fit_transform(y_Data.reshape(-1,1))\n",
    "    return x_scale,y_Data"
   ]
  },
  {
   "cell_type": "code",
   "execution_count": 6,
   "id": "08c69cd9-9961-4f9a-af7f-0c8212a90c1f",
   "metadata": {},
   "outputs": [],
   "source": [
    "def Standardization_vegf(df):\n",
    "    x_Data=df.iloc[:,1:].to_numpy()\n",
    "    y_Data=df.iloc[:,0].to_numpy()\n",
    "    minmax_scaler_vegf.fit(x_Data)\n",
    "    x_scale=minmax_scaler_vegf.transform(x_Data)\n",
    "    target = oneHot_encoder.fit_transform(y_Data.reshape(-1,1))\n",
    "    return x_scale,target"
   ]
  },
  {
   "cell_type": "code",
   "execution_count": 7,
   "id": "af46911e-1b82-4cf0-86f6-c7003ee0bfd5",
   "metadata": {},
   "outputs": [],
   "source": [
    "def define_model(shape):\n",
    "    encoding_dim=32\n",
    "    input_vec=keras.Input(shape=(shape,))\n",
    "    encoded=layers.Dense(1024,activation='relu')(input_vec)\n",
    "    encoded=layers.Dropout(0.3)(encoded)\n",
    "    encoded=layers.Dense(64,activation='relu')(encoded)\n",
    "    encoded=layers.Dropout(0.2)(encoded)\n",
    "    encoded=layers.Dense(2,activation='softmax')(encoded)\n",
    "#     ------------------------------------------------------------\n",
    "    model=keras.Model(input_vec,encoded)\n",
    "    initial_learning_rate = 0.001\n",
    "    opt = keras.optimizers.Adam(learning_rate=initial_learning_rate)\n",
    "    model.compile(optimizer=opt,loss='categorical_crossentropy',metrics=['accuracy'])\n",
    "#     model.save_weights(os.path.join(path,'initial_weight_Adam.h5'))\n",
    "    \n",
    "    return model"
   ]
  },
  {
   "cell_type": "code",
   "execution_count": 8,
   "id": "2732fc57-9e16-45ac-9ea3-768a70ab7c0b",
   "metadata": {},
   "outputs": [],
   "source": [
    "x_Data_egf,y_Data_egf=Standardization_egf(df_egf)\n",
    "x_Data_fgf,y_Data_fgf=Standardization_fgf(df_fgfr)\n",
    "x_Data_vegf,y_Data_vegf=Standardization_vegf(df_vegfr)"
   ]
  },
  {
   "cell_type": "code",
   "execution_count": 9,
   "id": "b39b260d-c255-45b1-99b7-e57c63f255ea",
   "metadata": {},
   "outputs": [
    {
     "data": {
      "text/plain": [
       "('egf:', (8102, 2228), 'fgf:', (1345, 1926), 'vegf:', (8212, 2207))"
      ]
     },
     "execution_count": 9,
     "metadata": {},
     "output_type": "execute_result"
    }
   ],
   "source": [
    "('egf:',x_Data_egf.shape,'fgf:',x_Data_fgf.shape,'vegf:',x_Data_vegf.shape)"
   ]
  },
  {
   "cell_type": "code",
   "execution_count": 10,
   "id": "2c427ffa-9341-409d-924f-d522e44d5cc4",
   "metadata": {},
   "outputs": [],
   "source": [
    "df_drugs = df_drugs.replace('n.a.',np.nan)\n",
    "df_drugs = df_drugs.dropna().reset_index(drop=True)"
   ]
  },
  {
   "cell_type": "code",
   "execution_count": 11,
   "id": "8ce04e3f-8d11-4c96-a4a2-5ab879c6f22d",
   "metadata": {},
   "outputs": [
    {
     "name": "stderr",
     "output_type": "stream",
     "text": [
      "C:\\Users\\Mohammadreza\\anaconda3\\lib\\site-packages\\sklearn\\base.py:486: UserWarning: X has feature names, but MinMaxScaler was fitted without feature names\n",
      "  warnings.warn(\n",
      "C:\\Users\\Mohammadreza\\anaconda3\\lib\\site-packages\\sklearn\\base.py:486: UserWarning: X has feature names, but MinMaxScaler was fitted without feature names\n",
      "  warnings.warn(\n",
      "C:\\Users\\Mohammadreza\\anaconda3\\lib\\site-packages\\sklearn\\base.py:486: UserWarning: X has feature names, but MinMaxScaler was fitted without feature names\n",
      "  warnings.warn(\n"
     ]
    }
   ],
   "source": [
    "x_Drug_egf, x_Drug_vegfr, x_Drug_fgfr = minmax_scaler_egf.transform(df_drugs.iloc[:,:][df_egf.columns[1:]]), minmax_scaler_vegf.transform(df_drugs.iloc[:,:][df_vegfr.columns[1:]]), minmax_scaler_fgf.transform(df_drugs.iloc[:,:][df_fgfr.columns[1:]])"
   ]
  },
  {
   "cell_type": "code",
   "execution_count": 12,
   "id": "96d2236d-be11-489e-889a-e077c2b289e8",
   "metadata": {},
   "outputs": [
    {
     "name": "stdout",
     "output_type": "stream",
     "text": [
      "58/58 [==============================] - 1s 11ms/step\n"
     ]
    }
   ],
   "source": [
    "EGFR_classifier = define_model(x_Data_egf.shape[1])\n",
    "EGFR_classifier.load_weights(r'Deep_Model\\EGFR_model.h5')\n",
    "EGFR_y_predicted_probability = EGFR_classifier.predict(x_Drug_egf)"
   ]
  },
  {
   "cell_type": "code",
   "execution_count": 13,
   "id": "a70213c2-977a-48ff-9d6e-9adc3905a3ad",
   "metadata": {},
   "outputs": [
    {
     "name": "stdout",
     "output_type": "stream",
     "text": [
      "58/58 [==============================] - 1s 16ms/step\n"
     ]
    }
   ],
   "source": [
    "VEGFR_classifier = define_model(x_Data_vegf.shape[1])\n",
    "VEGFR_classifier.load_weights(r'Deep_Model\\VEGFR2_model.h5')\n",
    "VEGFR_y_predicted_probability = VEGFR_classifier.predict(x_Drug_vegfr)"
   ]
  },
  {
   "cell_type": "code",
   "execution_count": 14,
   "id": "cbcc1837-745d-47fc-b10d-bf74577f8724",
   "metadata": {},
   "outputs": [
    {
     "name": "stdout",
     "output_type": "stream",
     "text": [
      "58/58 [==============================] - 1s 12ms/step\n"
     ]
    }
   ],
   "source": [
    "FGFR_classifier = define_model(x_Data_fgf.shape[1])\n",
    "FGFR_classifier.load_weights(r'Deep_Model\\FGFR2_model.h5')\n",
    "FGFR_y_predicted_probability = FGFR_classifier.predict(x_Drug_fgfr)"
   ]
  },
  {
   "cell_type": "code",
   "execution_count": 23,
   "id": "da298617-d2a2-411f-9dd7-25baf37cd59c",
   "metadata": {},
   "outputs": [],
   "source": [
    "Final_probability = np.concatenate((df_drugs.MolID.values.reshape(-1,1),EGFR_y_predicted_probability,VEGFR_y_predicted_probability,FGFR_y_predicted_probability),axis=1)"
   ]
  },
  {
   "cell_type": "code",
   "execution_count": 24,
   "id": "7f8ca9e4-5be9-49d1-a51f-18ad0b44c5f7",
   "metadata": {},
   "outputs": [],
   "source": [
    "# تعریف ستون‌ها با MultiIndex\n",
    "columns = pd.MultiIndex.from_tuples([\n",
    "    ('Drug', ''),\n",
    "    ('EGFR', 'Inhibition Probability'),\n",
    "    ('EGFR', 'Not Inhibition Probability'),\n",
    "    ('VEGFR2', 'Inhibition Probability'),\n",
    "    ('VEGFR2', 'Not Inhibition Probability'),\n",
    "    ('FGFR2', 'Inhibition Probability'),\n",
    "    ('FGFR2', 'Not Inhibition Probability'),\n",
    "])\n",
    "\n",
    "df = pd.DataFrame(Final_probability, columns=columns)"
   ]
  },
  {
   "cell_type": "code",
   "execution_count": 25,
   "id": "0030eaa7-e135-48f1-98e7-2b16fbcd7ba2",
   "metadata": {},
   "outputs": [
    {
     "data": {
      "text/html": [
       "<div>\n",
       "<style scoped>\n",
       "    .dataframe tbody tr th:only-of-type {\n",
       "        vertical-align: middle;\n",
       "    }\n",
       "\n",
       "    .dataframe tbody tr th {\n",
       "        vertical-align: top;\n",
       "    }\n",
       "\n",
       "    .dataframe thead tr th {\n",
       "        text-align: left;\n",
       "    }\n",
       "</style>\n",
       "<table border=\"1\" class=\"dataframe\">\n",
       "  <thead>\n",
       "    <tr>\n",
       "      <th></th>\n",
       "      <th>Drug</th>\n",
       "      <th colspan=\"2\" halign=\"left\">EGFR</th>\n",
       "      <th colspan=\"2\" halign=\"left\">VEGFR2</th>\n",
       "      <th colspan=\"2\" halign=\"left\">FGFR2</th>\n",
       "    </tr>\n",
       "    <tr>\n",
       "      <th></th>\n",
       "      <th></th>\n",
       "      <th>Inhibition Probability</th>\n",
       "      <th>Not Inhibition Probability</th>\n",
       "      <th>Inhibition Probability</th>\n",
       "      <th>Not Inhibition Probability</th>\n",
       "      <th>Inhibition Probability</th>\n",
       "      <th>Not Inhibition Probability</th>\n",
       "    </tr>\n",
       "  </thead>\n",
       "  <tbody>\n",
       "    <tr>\n",
       "      <th>0</th>\n",
       "      <td>DB00006</td>\n",
       "      <td>0.551181</td>\n",
       "      <td>0.448819</td>\n",
       "      <td>0.000039</td>\n",
       "      <td>0.999961</td>\n",
       "      <td>0.802407</td>\n",
       "      <td>0.197593</td>\n",
       "    </tr>\n",
       "    <tr>\n",
       "      <th>1</th>\n",
       "      <td>DB00007</td>\n",
       "      <td>0.662543</td>\n",
       "      <td>0.337457</td>\n",
       "      <td>0.303699</td>\n",
       "      <td>0.696301</td>\n",
       "      <td>0.954081</td>\n",
       "      <td>0.045919</td>\n",
       "    </tr>\n",
       "    <tr>\n",
       "      <th>2</th>\n",
       "      <td>DB00014</td>\n",
       "      <td>0.713243</td>\n",
       "      <td>0.286758</td>\n",
       "      <td>0.23973</td>\n",
       "      <td>0.76027</td>\n",
       "      <td>0.966371</td>\n",
       "      <td>0.033629</td>\n",
       "    </tr>\n",
       "    <tr>\n",
       "      <th>3</th>\n",
       "      <td>DB00027</td>\n",
       "      <td>0.704255</td>\n",
       "      <td>0.295745</td>\n",
       "      <td>0.001759</td>\n",
       "      <td>0.998241</td>\n",
       "      <td>0.914223</td>\n",
       "      <td>0.085777</td>\n",
       "    </tr>\n",
       "    <tr>\n",
       "      <th>4</th>\n",
       "      <td>DB00035</td>\n",
       "      <td>0.37088</td>\n",
       "      <td>0.62912</td>\n",
       "      <td>0.699943</td>\n",
       "      <td>0.300057</td>\n",
       "      <td>0.998776</td>\n",
       "      <td>0.001223</td>\n",
       "    </tr>\n",
       "    <tr>\n",
       "      <th>...</th>\n",
       "      <td>...</td>\n",
       "      <td>...</td>\n",
       "      <td>...</td>\n",
       "      <td>...</td>\n",
       "      <td>...</td>\n",
       "      <td>...</td>\n",
       "      <td>...</td>\n",
       "    </tr>\n",
       "    <tr>\n",
       "      <th>1823</th>\n",
       "      <td>DB15982</td>\n",
       "      <td>0.633803</td>\n",
       "      <td>0.366197</td>\n",
       "      <td>0.571732</td>\n",
       "      <td>0.428268</td>\n",
       "      <td>0.829672</td>\n",
       "      <td>0.170328</td>\n",
       "    </tr>\n",
       "    <tr>\n",
       "      <th>1824</th>\n",
       "      <td>DB16022</td>\n",
       "      <td>0.639796</td>\n",
       "      <td>0.360204</td>\n",
       "      <td>0.939969</td>\n",
       "      <td>0.060031</td>\n",
       "      <td>0.019564</td>\n",
       "      <td>0.980436</td>\n",
       "    </tr>\n",
       "    <tr>\n",
       "      <th>1825</th>\n",
       "      <td>DB16625</td>\n",
       "      <td>0.293042</td>\n",
       "      <td>0.706958</td>\n",
       "      <td>0.352506</td>\n",
       "      <td>0.647494</td>\n",
       "      <td>0.107199</td>\n",
       "      <td>0.892801</td>\n",
       "    </tr>\n",
       "    <tr>\n",
       "      <th>1826</th>\n",
       "      <td>DB16627</td>\n",
       "      <td>0.315026</td>\n",
       "      <td>0.684974</td>\n",
       "      <td>0.679686</td>\n",
       "      <td>0.320314</td>\n",
       "      <td>0.175099</td>\n",
       "      <td>0.824901</td>\n",
       "    </tr>\n",
       "    <tr>\n",
       "      <th>1827</th>\n",
       "      <td>DB16628</td>\n",
       "      <td>0.92333</td>\n",
       "      <td>0.07667</td>\n",
       "      <td>0.999959</td>\n",
       "      <td>0.000041</td>\n",
       "      <td>0.033296</td>\n",
       "      <td>0.966704</td>\n",
       "    </tr>\n",
       "  </tbody>\n",
       "</table>\n",
       "<p>1828 rows × 7 columns</p>\n",
       "</div>"
      ],
      "text/plain": [
       "         Drug                   EGFR                             \\\n",
       "              Inhibition Probability Not Inhibition Probability   \n",
       "0     DB00006               0.551181                   0.448819   \n",
       "1     DB00007               0.662543                   0.337457   \n",
       "2     DB00014               0.713243                   0.286758   \n",
       "3     DB00027               0.704255                   0.295745   \n",
       "4     DB00035                0.37088                    0.62912   \n",
       "...       ...                    ...                        ...   \n",
       "1823  DB15982               0.633803                   0.366197   \n",
       "1824  DB16022               0.639796                   0.360204   \n",
       "1825  DB16625               0.293042                   0.706958   \n",
       "1826  DB16627               0.315026                   0.684974   \n",
       "1827  DB16628                0.92333                    0.07667   \n",
       "\n",
       "                     VEGFR2                                             FGFR2  \\\n",
       "     Inhibition Probability Not Inhibition Probability Inhibition Probability   \n",
       "0                  0.000039                   0.999961               0.802407   \n",
       "1                  0.303699                   0.696301               0.954081   \n",
       "2                   0.23973                    0.76027               0.966371   \n",
       "3                  0.001759                   0.998241               0.914223   \n",
       "4                  0.699943                   0.300057               0.998776   \n",
       "...                     ...                        ...                    ...   \n",
       "1823               0.571732                   0.428268               0.829672   \n",
       "1824               0.939969                   0.060031               0.019564   \n",
       "1825               0.352506                   0.647494               0.107199   \n",
       "1826               0.679686                   0.320314               0.175099   \n",
       "1827               0.999959                   0.000041               0.033296   \n",
       "\n",
       "                                 \n",
       "     Not Inhibition Probability  \n",
       "0                      0.197593  \n",
       "1                      0.045919  \n",
       "2                      0.033629  \n",
       "3                      0.085777  \n",
       "4                      0.001223  \n",
       "...                         ...  \n",
       "1823                   0.170328  \n",
       "1824                   0.980436  \n",
       "1825                   0.892801  \n",
       "1826                   0.824901  \n",
       "1827                   0.966704  \n",
       "\n",
       "[1828 rows x 7 columns]"
      ]
     },
     "execution_count": 25,
     "metadata": {},
     "output_type": "execute_result"
    }
   ],
   "source": [
    "df"
   ]
  },
  {
   "cell_type": "code",
   "execution_count": null,
   "id": "701aec55-80b1-4999-8a86-86238c0518af",
   "metadata": {},
   "outputs": [],
   "source": []
  }
 ],
 "metadata": {
  "kernelspec": {
   "display_name": "Python 3 (ipykernel)",
   "language": "python",
   "name": "python3"
  },
  "language_info": {
   "codemirror_mode": {
    "name": "ipython",
    "version": 3
   },
   "file_extension": ".py",
   "mimetype": "text/x-python",
   "name": "python",
   "nbconvert_exporter": "python",
   "pygments_lexer": "ipython3",
   "version": "3.9.13"
  }
 },
 "nbformat": 4,
 "nbformat_minor": 5
}
